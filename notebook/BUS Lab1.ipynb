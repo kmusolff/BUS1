{
 "cells": [
  {
   "cell_type": "markdown",
   "metadata": {},
   "source": [
    "# Laboratorium Bezpieczeństwa Usług Sieciowych\n",
    "\n",
    "## 1. Obsługa Arytmetytki modularnej\n",
    "\n",
    "Arytmetykę ciała skończonego GF(p) dla dowolnego p implementuje poniższa klasa w języku Python."
   ]
  },
  {
   "cell_type": "code",
   "execution_count": 1,
   "metadata": {},
   "outputs": [],
   "source": [
    "class Arytmetyka:\n",
    "    \n",
    "    def __init__(self, value, modulo):\n",
    "        self.__modulo = modulo\n",
    "        self.__value = value % modulo\n",
    "\n",
    "    def __add__(self, other):\n",
    "        new_value = (self.__value + other.__value) % self.__modulo\n",
    "        return Arytmetyka(new_value, self.__modulo)\n",
    "\n",
    "    def __sub__(self, other):\n",
    "        new_value = (self.__value - other.__value) % self.__modulo\n",
    "        return Arytmetyka(new_value, self.__modulo)\n",
    "\n",
    "    def __mul__(self, other):\n",
    "        new_value = (self.__value * other.__value) % self.__modulo\n",
    "        return Arytmetyka(new_value, self.__modulo)\n",
    "\n",
    "    def __str__(self):\n",
    "        return str(self.__value)\n",
    "\n",
    "    #odwrotność modulo: a*a^-1 = 1 (mod m)\n",
    "    def inverse(self):\n",
    "        m = self.__modulo\n",
    "        a = self.__value\n",
    "        m0 = m \n",
    "        y = 0\n",
    "        x = 1\n",
    "        \n",
    "        if (m == 1): \n",
    "            return 0\n",
    "\n",
    "        while (a > 1): \n",
    "            q = a // m \n",
    "            t = m \n",
    "            m = a % m \n",
    "            a = t \n",
    "            t = y \n",
    "            y = x - q * y \n",
    "            x = t \n",
    "\n",
    "        if (x < 0) : \n",
    "            x = x + m0 \n",
    "\n",
    "        return Arytmetyka(x, self.__modulo)"
   ]
  },
  {
   "cell_type": "markdown",
   "metadata": {},
   "source": [
    "### Przykłady działań dla \"małych liczb\""
   ]
  },
  {
   "cell_type": "code",
   "execution_count": 2,
   "metadata": {},
   "outputs": [
    {
     "name": "stdout",
     "output_type": "stream",
     "text": [
      "Wpisz pierwszą liczbę: 321\n",
      "Wpisz drugą liczbę: 511\n",
      "Wpisz moduł: 743\n"
     ]
    }
   ],
   "source": [
    "a = int(input(\"Wpisz pierwszą liczbę: \"))\n",
    "b = int(input(\"Wpisz drugą liczbę: \"))\n",
    "p = int(input(\"Wpisz moduł: \"))\n",
    "\n",
    "a = Arytmetyka(a, p)\n",
    "b = Arytmetyka(b, p)"
   ]
  },
  {
   "cell_type": "markdown",
   "metadata": {},
   "source": [
    "#### Po wpisaniu liczb możemy na nich wykonywać następujące operacje:\n",
    "- __dodawanie__ $ a \\oplus b \\: (mod \\: p)$"
   ]
  },
  {
   "cell_type": "code",
   "execution_count": 3,
   "metadata": {},
   "outputs": [
    {
     "name": "stdout",
     "output_type": "stream",
     "text": [
      "321 + 511 = 89 (mod 743)\n"
     ]
    }
   ],
   "source": [
    "print(\"{} + {} = {} (mod {})\".format(a, b, a+b, p))"
   ]
  },
  {
   "cell_type": "markdown",
   "metadata": {},
   "source": [
    "- __odejmowanie__  $ a \\ominus b \\: (mod \\: p)$"
   ]
  },
  {
   "cell_type": "code",
   "execution_count": 4,
   "metadata": {},
   "outputs": [
    {
     "name": "stdout",
     "output_type": "stream",
     "text": [
      "321 - 511 = 553 (mod 743)\n"
     ]
    }
   ],
   "source": [
    "print(\"{} - {} = {} (mod {})\".format(a, b, a-b, p))"
   ]
  },
  {
   "cell_type": "markdown",
   "metadata": {},
   "source": [
    "- __mnożenie__ $ a \\odot b \\: (mod \\: p)$"
   ]
  },
  {
   "cell_type": "code",
   "execution_count": 5,
   "metadata": {},
   "outputs": [
    {
     "name": "stdout",
     "output_type": "stream",
     "text": [
      "321 * 511 = 571 (mod 743)\n"
     ]
    }
   ],
   "source": [
    "print(\"{} * {} = {} (mod {})\".format(a, b, a*b, p))"
   ]
  },
  {
   "cell_type": "markdown",
   "metadata": {},
   "source": [
    "- __znajdowanie odwrotności__  $ a^{-1} \\: (mod \\: p)$ - odbywa się ono za pomocą rozszerzonego algorytmu Euklidesa ze złożonością $ O(log(n)) $"
   ]
  },
  {
   "cell_type": "code",
   "execution_count": 6,
   "metadata": {},
   "outputs": [
    {
     "name": "stdout",
     "output_type": "stream",
     "text": [
      "321 * 537 = 1 (mod 743)\n"
     ]
    }
   ],
   "source": [
    "print(\"{} * {} = {} (mod {})\".format(a, a.inverse(), a*a.inverse(), p))"
   ]
  },
  {
   "cell_type": "markdown",
   "metadata": {},
   "source": [
    "### Operacje dla dowolnie dużych liczb (1024bitowe)"
   ]
  },
  {
   "cell_type": "code",
   "execution_count": 7,
   "metadata": {},
   "outputs": [],
   "source": [
    "from Crypto.Util import number\n",
    "from random import getrandbits\n",
    "\n",
    "p_bits = 2048\n",
    "\n",
    "p = number.getPrime(p_bits)\n",
    "\n",
    "a = Arytmetyka(getrandbits(p_bits), p)"
   ]
  },
  {
   "cell_type": "markdown",
   "metadata": {},
   "source": [
    "Dla tak dużych liczb jesteśmy w stanie w sensowny sposób pokazać jedynie odwracanie liczby\n"
   ]
  },
  {
   "cell_type": "code",
   "execution_count": 8,
   "metadata": {
    "scrolled": true
   },
   "outputs": [
    {
     "name": "stdout",
     "output_type": "stream",
     "text": [
      "13658168845078005623252492436483876732438489934259314972937031323508546000295507729751716643250229194516459143280835097931437128217841810095424999301109134165757673333808174033521411468285101353403646022549626650346702154303841017931434891015174266707304528917738809191453361348059268556175215577883231928719292399575709284633381865108502811556006890282516269013451535584517407399404029640889021238199911400540053964511956190518741317466313314197568048663007418494758699719808761134848360078629483308863924330104932560540493575000238507704412997788534521852828009003674318539832669104149242585397473520212092860089009 \n",
      "*\n",
      "1358474764712978644371149757120400304797869174347894573324551632519022391714797436120738367059172029716683125430179189661779197051665144935344186208530169995964163358250152077421010269651729598671634687423520804091557458259754841161274964712526361883644226380490233327586564764239311825668212408927607173806576624175405124554017407044872439636360568495362518656708486331067281604121600735358004465496061435785166955798134307139331342607001412681774453883124999348025329110620589735658362808282974976604688197219679346023452099789483039700503859464373902009751067964213195757453871091992204697602823563265571557070253 \n",
      "=\n",
      "1 \n",
      "(mod 17094255019830989650847178169416142031089397125420032383522794416777393260940991829039412000240963946752176878337035432274624140571553092581064079048443127454279617244677719282648335396325868783473551282155994984226877813604722010992608581847280381223190836185953765390054823811413897818557360444033865874666647644084704374702302180234890255249741899778030978479981125813598223581785120503662918581298573278868290862196199085086943979692090192496331338748431720710218488291120512274273703488533869365468151994344588731164245271412868987932039376266492971374100057134485172783844200026710634772460987241600367943549321)\n"
     ]
    }
   ],
   "source": [
    "print(\"{} \\n*\\n{} \\n=\\n{} \\n(mod {})\".format(a, a.inverse(), a*a.inverse(), p))"
   ]
  },
  {
   "cell_type": "markdown",
   "metadata": {},
   "source": [
    "## 2. Analiza algorytmu szyfrowania klucza symetrycznego AES\n",
    "\n",
    "Interfejs szyfrowania i zapisywania do plików odpowiednich wyników oraz danych jest dostępny w klasie AES w pliku aes.py"
   ]
  },
  {
   "cell_type": "markdown",
   "metadata": {},
   "source": [
    "### 2.1 Użycie tego samego klucza do zaszyfrowania i odszyfrowania niezmienionych, poprawnych danych"
   ]
  },
  {
   "cell_type": "code",
   "execution_count": 11,
   "metadata": {},
   "outputs": [
    {
     "name": "stdout",
     "output_type": "stream",
     "text": [
      "szyfrowanie CBC\n",
      "\n",
      "szyfrowany tekst:\n",
      "Lorem ipsum dolor sit amet, consectetur adipiscing elit. Proin pretium ultrices turpis. Integer lobortis, nunc ut ornare blandit, purus arcu viverra lectus, vel pharetra leo lorem et eros.\n",
      "\n",
      "klucz: \n",
      "b'\\xde\\x18\\x07\\xa8\\x13\\xca\\xbd\\x96\\xb2\\xe6\\xc5\\x05B\\x17\\x86\\x8a\\x83+x\\xe8\\x00\\xf4+\\x1fQ\\xb0\\xe2KO\\x101\\xd0'\n",
      "\n",
      "tekst zaszyfrowany:\n",
      "b'<z6\\xa4\\x9c\\xc5\\x84\\x18\\xe1\\x07D4\\xd2\\xab\\xb5`\\xd2\\xcf\"\\xb2\\xfb\\x98P\\xe4;\\xc3\\xbam\\x9c\\xd8\\xbf*kg*\\x01B\\xb2\\xa5\\x1d\\x9d\\xf9z\\xc9(EC:\\'\\xdc\\xf5z\\xe9\\xc0\\xd7\\xf1\\xe0-\\x12&t2\\nM\\xdce\\xd2@yL\\xc0\\xb1\\xa8\\xe3 \\xe7\\xffz\\xba\\x0etU\\xc3O\\xe6M\\xff\\xd3\\x84\\xe6\\xb4\\x7fx\\xe9\\xe7\\xd2:\\x9a\\x94\\x8bvJ\\x99\\x0b\\xacJ\\n\\x80\\xbf\\x10\\xd5@\\xee0Y\\x19\\xe1\\xd5\\x84\\xc1\\xf9\\xc5\\xe3\\xe2l\\xdf{\\x840T\\x9b\\xb8K\\x0cLV\\xe1bN\\x90\\xf1\\xd5\\xeey\\x02\\xbe3~\\x16}\\x10\\x88\\xef\\xeeP\\x90\\xd8N\\xbff\\xd6\\x8b\\xd0\\xa7\\xcd\\xa6\\t\\xdd\\xef\\xd1\\x04\\x0e\\x01`R\\xa72\\xae\\xcc\\xc2\\x9f\\x15mc\\xe3\\x007\\xb7^\\x04B\\xdd'\n",
      "\n",
      "IV: \n",
      "b'\"1Fa\\xcf\\xd9\\x1d\\xec\\xc1\\xec\\xcer\\xcfCP\\xbe'\n",
      "\n",
      "tekst odszyfrowany:\n",
      "Lorem ipsum dolor sit amet, consectetur adipiscing elit. Proin pretium ultrices turpis. Integer lobortis, nunc ut ornare blandit, purus arcu viverra lectus, vel pharetra leo lorem et eros.\n",
      "\n",
      "\n",
      "szyfowanie ECB\n",
      "\n",
      "szyfrowany tekst:\n",
      "Lorem ipsum dolor sit amet, consectetur adipiscing elit. Proin pretium ultrices turpis. Integer lobortis, nunc ut ornare blandit, purus arcu viverra lectus, vel pharetra leo lorem et eros.\n",
      "\n",
      "klucz: \n",
      "b'\\xcb\\x7f\\xc3\\x8eQ\\xb2\\x92D\\xa1\\x0e\\x8f\\x87V\\xcbM\\xc1)(\\xfd|\\xfc]\\xdc\\xc6&d\\xd8~E\\xba\\x9a\\xda'\n",
      "\n",
      "tekst zaszyfrowany:\n",
      "b\"\\x9a\\xb0Z\\\\\\xa4\\xf1?Q\\xc4l\\xae\\xde2\\xec!\\x01\\x9a\\x81\\x03'\\x0c\\xf3\\xca\\x814\\xd5\\xbe\\x1f\\x16+#\\xc2\\x98\\tz\\x7f\\xa6\\xb8\\xd3$\\xcb\\x82\\xbb*\\xab\\x9e\\x0c\\xb1\\xf2$\\x8ae\\x1a\\xfa\\x9a\\x1a\\xba,\\xe2\\x00l\\xa0'\\x8a\\xb8\\x88\\x99b\\x80#=\\xec\\xce\\xb0\\xf4G+\\xdcs\\xcac\\x19\\xb1\\xca\\x8aF\\x0cdW\\xd0DV\\x16\\xa5\\x8bxN\\n\\xa7\\xe7\\xda\\xcd\\xc1o*<\\xd3\\xe5\\xa6\\r\\xce\\xec\\xfe\\xcf,`\\xd3\\xa4w\\xbf\\x15 #\\xaa&\\xc2e\\xf1<\\xd7\\x8c`\\x1e\\xdf\\x91D\\xecK\\xf9\\x07\\x9cj\\xf9\\xd8\\xcb\\x89$j\\x0c\\xe8?\\x13\\\\\\x10\\xcd\\xbdC\\x0e\\xb5D-L\\xf3\\xe6y\\xc9R\\xad<F\\xb4W\\x99Np-u\\xb1\\x91\\xd9\\xda^\\x10\\x08\\xee6>\\x05\\xb8\\x1a\\xf2z\"\n",
      "\n",
      "tekst odszyfrowany:\n",
      "Lorem ipsum dolor sit amet, consectetur adipiscing elit. Proin pretium ultrices turpis. Integer lobortis, nunc ut ornare blandit, purus arcu viverra lectus, vel pharetra leo lorem et eros.\n"
     ]
    }
   ],
   "source": [
    "from aes import AES\n",
    "aes = AES()\n",
    "#szyfrowanie w trybie CBC \n",
    "print(\"szyfrowanie CBC\\n\")\n",
    "aes.prepare_encrypt('CBC')\n",
    "aes.encrypt_txt('message.txt', 'encrypted_message_CBC.txt', 'message_key_CBC', 'message_iv')\n",
    "\n",
    "aes.prepare_decrypt('CBC', 'message_key_CBC', 'message_iv')\n",
    "aes.decrypt_txt('encrypted_message_CBC.txt', 'decrypted_message_CBC.txt')\n",
    "\n",
    "\n",
    "print(\"\\n\\nszyfowanie ECB\\n\")\n",
    "\n",
    "#szyfrowanie w trybie ECB\n",
    "aes.prepare_encrypt('ECB')\n",
    "aes.encrypt_txt('message.txt', 'encrypted_message_ECB.txt', 'message_key_ECB')\n",
    "\n",
    "aes.prepare_decrypt('ECB', 'message_key_ECB')\n",
    "aes.decrypt_txt('encrypted_message_ECB.txt', 'decrypted_message_ECB.txt')"
   ]
  },
  {
   "cell_type": "markdown",
   "metadata": {},
   "source": [
    "### Dodatkowa demonstracja różnic w działaniu trybów ECB i CBC na podstawie szyfrowania obrazów"
   ]
  },
  {
   "cell_type": "code",
   "execution_count": 5,
   "metadata": {},
   "outputs": [],
   "source": [
    "from aes import AES\n",
    "\n",
    "aes = AES()\n",
    "aes.prepare_encrypt('CBC')\n",
    "aes.encrypt_image('eiti.jpg', 'eiti_cbc/eiti_cbc.jpg', 'eiti_cbc/eiti_data_cbc', 'eiti_cbc/eiti_key_cbc', 'eiti_cbc/eiti_iv')\n",
    "\n",
    "aes.prepare_decrypt('CBC', 'eiti_cbc/eiti_key_cbc', 'eiti_cbc/eiti_iv')\n",
    "aes.decrypt_image('eiti_cbc/eiti_data_cbc', 'eiti_cbc/eiti_cbc_decyrpt.jpg')\n",
    "\n",
    "aes.prepare_encrypt('ECB')\n",
    "aes.encrypt_image('eiti.jpg', 'eiti_ecb/eiti_ecb.jpg', 'eiti_ecb/eiti_data_ecb', 'eiti_ecb/eiti_key_ecb')\n",
    "\n",
    "aes.prepare_decrypt('ECB', 'eiti_ecb/eiti_key_ecb')\n",
    "aes.decrypt_image('eiti_ecb/eiti_data_ecb', 'eiti_ecb/eiti_ecb_decyrpt.jpg')\n"
   ]
  },
  {
   "cell_type": "markdown",
   "metadata": {},
   "source": [
    "<img src=\"eiti.jpg\" width=\"200\" height=\"200\" style=\"float: left; margin: 0 5%\" />\n",
    "<img src=\"eiti_cbc/eiti_cbc.jpg\" width=\"200\" height=\"200\" style=\"float: left; margin: 0 5%\"/>\n",
    "<img src=\"eiti_ecb/eiti_ecb.jpg\" width=\"200\" height=\"200\" style=\"float: left; margin: 0 5%\"/>\n",
    "<div style=\"clear: both; margin: 15px auto\">\n",
    "Powyżej widoczne są wyniki szyfrowania logo wydziału EITI (obrazek z lewej) dla trybu CBC (obrazek środkowy) oraz ECB (obrazek z prawej). Widać, że dla uporządkowanych danych znacząco lepiej z szyfrowaniem radzi sobie AES w trybie CBC, a tryb ECB nie maskuje zbyt dobrze informacji. Wynika z faktu, że w trybie CBC (jak wskazuje nazwa Cipher Block Chaining) najpierw pierwszy blok jest poddany operacji xor z wektorem inicjalizacyjnym, a poczas szyfrowania kolejnych bloków wykonuje się ich xor z poprzednim, zaszyfrowanym już blokiem, co daje większą losowość wyniku. W trybie ECB bloki są po prostu szyfrowane jeden po drugim za pomocą klucza co w przedstawionym przypadku okazało się mało efektywne.\n",
    "</div>"
   ]
  }
 ],
 "metadata": {
  "kernelspec": {
   "display_name": "Python 3",
   "language": "python",
   "name": "python3"
  },
  "language_info": {
   "codemirror_mode": {
    "name": "ipython",
    "version": 3
   },
   "file_extension": ".py",
   "mimetype": "text/x-python",
   "name": "python",
   "nbconvert_exporter": "python",
   "pygments_lexer": "ipython3",
   "version": "3.7.0"
  }
 },
 "nbformat": 4,
 "nbformat_minor": 2
}

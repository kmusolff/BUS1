{
 "cells": [
  {
   "cell_type": "markdown",
   "metadata": {},
   "source": [
    "# Laboratorium Bezpieczeństwa Usług Sieciowych\n",
    "\n",
    "## 1. Obsługa Arytmetytki modularnej\n",
    "\n",
    "Arytmetykę ciała skończonego GF(p) dla dowolnego p implementuje poniższa klasa w języku Python."
   ]
  },
  {
   "cell_type": "code",
   "execution_count": 1,
   "metadata": {},
   "outputs": [],
   "source": [
    "class Arytmetyka:\n",
    "    \n",
    "    def __init__(self, value, modulo):\n",
    "        self.__modulo = modulo\n",
    "        self.__value = value % modulo\n",
    "\n",
    "    def __add__(self, other):\n",
    "        new_value = (self.__value + other.__value) % self.__modulo\n",
    "        return Arytmetyka(new_value, self.__modulo)\n",
    "\n",
    "    def __sub__(self, other):\n",
    "        new_value = (self.__value - other.__value) % self.__modulo\n",
    "        return Arytmetyka(new_value, self.__modulo)\n",
    "\n",
    "    def __mul__(self, other):\n",
    "        new_value = (self.__value * other.__value) % self.__modulo\n",
    "        return Arytmetyka(new_value, self.__modulo)\n",
    "\n",
    "    def __str__(self):\n",
    "        return str(self.__value)\n",
    "\n",
    "    #odwrotność modulo: a*a^-1 = 1 (mod m)\n",
    "    def inverse(self):\n",
    "        m = self.__modulo\n",
    "        a = self.__value\n",
    "        m0 = m \n",
    "        y = 0\n",
    "        x = 1\n",
    "        \n",
    "        if (m == 1): \n",
    "            return 0\n",
    "\n",
    "        while (a > 1): \n",
    "            q = a // m \n",
    "            t = m \n",
    "            m = a % m \n",
    "            a = t \n",
    "            t = y \n",
    "            y = x - q * y \n",
    "            x = t \n",
    "\n",
    "        if (x < 0) : \n",
    "            x = x + m0 \n",
    "\n",
    "        return Arytmetyka(x, self.__modulo)"
   ]
  },
  {
   "cell_type": "markdown",
   "metadata": {},
   "source": [
    "### Przykłady działań dla \"małych liczb\""
   ]
  },
  {
   "cell_type": "code",
   "execution_count": 2,
   "metadata": {},
   "outputs": [
    {
     "name": "stdout",
     "output_type": "stream",
     "text": [
      "Wpisz pierwszą liczbę: 321\n",
      "Wpisz drugą liczbę: 511\n",
      "Wpisz moduł: 743\n"
     ]
    }
   ],
   "source": [
    "a = int(input(\"Wpisz pierwszą liczbę: \"))\n",
    "b = int(input(\"Wpisz drugą liczbę: \"))\n",
    "p = int(input(\"Wpisz moduł: \"))\n",
    "\n",
    "a = Arytmetyka(a, p)\n",
    "b = Arytmetyka(b, p)"
   ]
  },
  {
   "cell_type": "markdown",
   "metadata": {},
   "source": [
    "#### Po wpisaniu liczb możemy na nich wykonywać następujące operacje:\n",
    "- __dodawanie__ $ a \\oplus b \\: (mod \\: p)$"
   ]
  },
  {
   "cell_type": "code",
   "execution_count": 3,
   "metadata": {},
   "outputs": [
    {
     "name": "stdout",
     "output_type": "stream",
     "text": [
      "321 + 511 = 89 (mod 743)\n"
     ]
    }
   ],
   "source": [
    "print(\"{} + {} = {} (mod {})\".format(a, b, a+b, p))"
   ]
  },
  {
   "cell_type": "markdown",
   "metadata": {},
   "source": [
    "- __odejmowanie__  $ a \\ominus b \\: (mod \\: p)$"
   ]
  },
  {
   "cell_type": "code",
   "execution_count": 4,
   "metadata": {},
   "outputs": [
    {
     "name": "stdout",
     "output_type": "stream",
     "text": [
      "321 - 511 = 553 (mod 743)\n"
     ]
    }
   ],
   "source": [
    "print(\"{} - {} = {} (mod {})\".format(a, b, a-b, p))"
   ]
  },
  {
   "cell_type": "markdown",
   "metadata": {},
   "source": [
    "- __mnożenie__ $ a \\odot b \\: (mod \\: p)$"
   ]
  },
  {
   "cell_type": "code",
   "execution_count": 5,
   "metadata": {},
   "outputs": [
    {
     "name": "stdout",
     "output_type": "stream",
     "text": [
      "321 * 511 = 571 (mod 743)\n"
     ]
    }
   ],
   "source": [
    "print(\"{} * {} = {} (mod {})\".format(a, b, a*b, p))"
   ]
  },
  {
   "cell_type": "markdown",
   "metadata": {},
   "source": [
    "- __znajdowanie odwrotności__  $ a^{-1} \\: (mod \\: p)$ - odbywa się ono za pomocą rozszerzonego algorytmu Euklidesa ze złożonością $ O(log(n)) $"
   ]
  },
  {
   "cell_type": "code",
   "execution_count": 6,
   "metadata": {},
   "outputs": [
    {
     "name": "stdout",
     "output_type": "stream",
     "text": [
      "321 * 537 = 1 (mod 743)\n"
     ]
    }
   ],
   "source": [
    "print(\"{} * {} = {} (mod {})\".format(a, a.inverse(), a*a.inverse(), p))"
   ]
  },
  {
   "cell_type": "markdown",
   "metadata": {},
   "source": [
    "### Operacje dla dowolnie dużych liczb (1024bitowe)"
   ]
  },
  {
   "cell_type": "code",
   "execution_count": 7,
   "metadata": {},
   "outputs": [],
   "source": [
    "from Crypto.Util import number\n",
    "from random import getrandbits\n",
    "\n",
    "p_bits = 2048\n",
    "\n",
    "p = number.getPrime(p_bits)\n",
    "\n",
    "a = Arytmetyka(getrandbits(p_bits), p)"
   ]
  },
  {
   "cell_type": "markdown",
   "metadata": {},
   "source": [
    "Dla tak dużych liczb jesteśmy w stanie w sensowny sposób pokazać jedynie odwracanie liczby\n"
   ]
  },
  {
   "cell_type": "code",
   "execution_count": 8,
   "metadata": {
    "scrolled": true
   },
   "outputs": [
    {
     "name": "stdout",
     "output_type": "stream",
     "text": [
      "13658168845078005623252492436483876732438489934259314972937031323508546000295507729751716643250229194516459143280835097931437128217841810095424999301109134165757673333808174033521411468285101353403646022549626650346702154303841017931434891015174266707304528917738809191453361348059268556175215577883231928719292399575709284633381865108502811556006890282516269013451535584517407399404029640889021238199911400540053964511956190518741317466313314197568048663007418494758699719808761134848360078629483308863924330104932560540493575000238507704412997788534521852828009003674318539832669104149242585397473520212092860089009 \n",
      "*\n",
      "1358474764712978644371149757120400304797869174347894573324551632519022391714797436120738367059172029716683125430179189661779197051665144935344186208530169995964163358250152077421010269651729598671634687423520804091557458259754841161274964712526361883644226380490233327586564764239311825668212408927607173806576624175405124554017407044872439636360568495362518656708486331067281604121600735358004465496061435785166955798134307139331342607001412681774453883124999348025329110620589735658362808282974976604688197219679346023452099789483039700503859464373902009751067964213195757453871091992204697602823563265571557070253 \n",
      "=\n",
      "1 \n",
      "(mod 17094255019830989650847178169416142031089397125420032383522794416777393260940991829039412000240963946752176878337035432274624140571553092581064079048443127454279617244677719282648335396325868783473551282155994984226877813604722010992608581847280381223190836185953765390054823811413897818557360444033865874666647644084704374702302180234890255249741899778030978479981125813598223581785120503662918581298573278868290862196199085086943979692090192496331338748431720710218488291120512274273703488533869365468151994344588731164245271412868987932039376266492971374100057134485172783844200026710634772460987241600367943549321)\n"
     ]
    }
   ],
   "source": [
    "print(\"{} \\n*\\n{} \\n=\\n{} \\n(mod {})\".format(a, a.inverse(), a*a.inverse(), p))"
   ]
  },
  {
   "cell_type": "markdown",
   "metadata": {},
   "source": [
    "## 2. Analiza algorytmu szyfrowania klucza symetrycznego AES\n",
    "\n",
    "Interfejs szyfrowania i zapisywania do plików odpowiednich wyników oraz danych jest dostępny w klasie AES w pliku aes.py"
   ]
  },
  {
   "cell_type": "markdown",
   "metadata": {},
   "source": [
    "### 2.1 Użycie tego samego klucza do zaszyfrowania i odszyfrowania niezmienionych, poprawnych danych"
   ]
  },
  {
   "cell_type": "code",
   "execution_count": 4,
   "metadata": {},
   "outputs": [
    {
     "name": "stdout",
     "output_type": "stream",
     "text": [
      "szyfrowanie CBC\n",
      "\n",
      "szyfrowany tekst:\n",
      "Lorem ipsum dolor sit amet, consectetur adipiscing elit. Proin pretium ultrices turpis. Integer lobortis, nunc ut ornare blandit, purus arcu viverra lectus, vel pharetra leo lorem et eros.\n",
      "\n",
      "klucz: \n",
      "b'\\x9a\\xfc0^\\x8d\\xe8=\\x80dGt\\xb3\\xb6\\x06q\\xc8\\xe7\\xbc\\x08\\x01\\x8c>*\\xaa\\x04\\x8a\\xf9\\xec\\x8d%o\\xd6'\n",
      "\n",
      "tekst zaszyfrowany:\n",
      "b'[2\\xac}\\xa8\\xe7.\\x13\\x80\\x03M\\xa63\\xb7\\x93\\xba\\x14\\xac\\x9b\\xbd\\xb2\\xbeu(\\xa7m\\x11\\x01\\x8c+\\r\\xc9x\\xd5P\\x0b:\\xcb\\x89\\x9d<\\x98\"@\\xf8\\x1c\\x84I\\x0e\\x83f\\xdd8Q,_ `\\x1e8\\xf3xd\\x06|\\xf3\\xa5\\xb7\\xf9 \\xcce\\xb5S\\xde\\x88\\xf9\\x86t\\x8bJ\\x16\\xd3\\x86.pIF\\xaa\\xe8\\xa1c\\x17\\x01\\xd2\\x9c\\xcc[\\xb6U\\xfd\\n\\x92\\xcc\\xb7k%\\xd1\\xd0R\\xdd\\xbbE\\x02\\x1b\\xf3a\\xf3\"\\xa06\\x1c\\x948\\xe8\\xfe\\xbc\\x86\\xb4\\xdf\\xbe1\\xcd\\x90o\\x93O\\x9b\\xea\\x80R\\x15\\xcc\\x9fG\\xa8\\x0e\\xbf?\\xf3\\ty\\\\\\x1f\\xaf_9,\\x0e\\xc0\\xdf\\x04\\x8b\\x95\\xbf\\xdd*rjg[\\x91\\xdb\\x1d\\xf6U\\x1aay\\x16$\\xffT\\xfe\\x8a\\xb9\\xf7\\xdcan\\x05V'\n",
      "\n",
      "IV: \n",
      "b'\\x92\\xa7\\x1e\\xac\\xee\\xe9X\\x91\\xa3b%\\r0\\xe9\\xe1\\xb7'\n",
      "\n",
      "tekst odszyfrowany:\n",
      "Lorem ipsum dolor sit amet, consectetur adipiscing elit. Proin pretium ultrices turpis. Integer lobortis, nunc ut ornare blandit, purus arcu viverra lectus, vel pharetra leo lorem et eros.\n",
      "\n",
      "\n",
      "szyfowanie ECB\n",
      "\n",
      "szyfrowany tekst:\n",
      "Lorem ipsum dolor sit amet, consectetur adipiscing elit. Proin pretium ultrices turpis. Integer lobortis, nunc ut ornare blandit, purus arcu viverra lectus, vel pharetra leo lorem et eros.\n",
      "\n",
      "klucz: \n",
      "b'\\xc7G\\xa0[w/\\x87\\x85?\\xf1\\x8c|\\xf5k6\\x95\\x9f\\xf9z\\xc7\\xbc\\x93#s}\\xee}\\xff1F\\xaa\\xf6'\n",
      "\n",
      "tekst zaszyfrowany:\n",
      "b\"$E\\xd86\\x1ff\\xa4\\xe9\\x13\\x90\\xcd\\xb0\\x99\\x9b\\xcahC\\xda\\xb2\\x8a\\xe3\\x85a\\xab\\xfe\\xf5\\x81\\xcdzX*\\xee\\x92\\xdaG\\rU\\xb2\\x982Y=|xu\\xec0\\xa8M\\xb3\\x0e\\xc2\\xa3&\\t\\xb4=\\xdd\\x1f5\\xe9\\x89G\\xf2\\x89D\\x9e\\xd9\\x86$I\\xfe\\xedX\\xe1\\xe2fys3\\xa0$\\xbcd\\x01\\xe0\\x05\\xb6\\xab\\x97\\x0ccV(\\x8c\\xfb\\xf7S\\xfd6\\x96\\x9f\\x04\\x98\\x08\\xee\\x1b.\\xe7xed\\x07\\x97\\x16\\xac\\xd0\\x98nd>u\\xe4\\xd3\\xaa^\\xac\\xe3h\\x9a\\xe8\\xff\\x82 [\\x8f\\x03\\x91<LCpPC\\x0c\\xd7\\xcf4z;\\xc8\\x83P\\xa2\\x9a\\x18\\x94[0\\xf4R:\\x90\\xb1W\\x07\\x9f\\xd2\\x86\\xa2\\xe9CZ%,\\xf5\\x9f\\xb9\\xba\\x12\\x07\\x9e\\xaf\\x1d'\\xb1/)`\\xe4\\x8f\\x04\"\n",
      "\n",
      "tekst odszyfrowany:\n",
      "Lorem ipsum dolor sit amet, consectetur adipiscing elit. Proin pretium ultrices turpis. Integer lobortis, nunc ut ornare blandit, purus arcu viverra lectus, vel pharetra leo lorem et eros.\n"
     ]
    }
   ],
   "source": [
    "from aes import AES\n",
    "aes = AES()\n",
    "#szyfrowanie w trybie CBC \n",
    "print(\"szyfrowanie CBC\\n\")\n",
    "aes.prepare_encrypt('CBC')\n",
    "aes.encrypt_txt('message.txt', 'encrypted_message_CBC.txt', 'message_key_CBC', 'message_iv')\n",
    "\n",
    "aes.prepare_decrypt('CBC', 'message_key_CBC', 'message_iv')\n",
    "aes.decrypt_txt('encrypted_message_CBC.txt', 'decrypted_message_CBC.txt')\n",
    "\n",
    "\n",
    "print(\"\\n\\nszyfowanie ECB\\n\")\n",
    "\n",
    "#szyfrowanie w trybie ECB\n",
    "aes.prepare_encrypt('ECB')\n",
    "aes.encrypt_txt('message.txt', 'encrypted_message_ECB.txt', 'message_key_ECB')\n",
    "\n",
    "aes.prepare_decrypt('ECB', 'message_key_ECB')\n",
    "aes.decrypt_txt('encrypted_message_ECB.txt', 'decrypted_message_ECB.txt')"
   ]
  },
  {
   "cell_type": "markdown",
   "metadata": {},
   "source": [
    "### Dodatkowa demonstracja różnic w działaniu trybów ECB i CBC na podstawie szyfrowania obrazów"
   ]
  },
  {
   "cell_type": "code",
   "execution_count": 3,
   "metadata": {},
   "outputs": [],
   "source": [
    "from aes import AES\n",
    "\n",
    "aes = AES()\n",
    "aes.prepare_encrypt('CBC')\n",
    "aes.encrypt_image('eiti.jpg', 'eiti_cbc/eiti_cbc.jpg', 'eiti_cbc/eiti_data_cbc', 'eiti_cbc/eiti_key_cbc', 'eiti_cbc/eiti_iv')\n",
    "\n",
    "aes.prepare_decrypt('CBC', 'eiti_cbc/eiti_key_cbc', 'eiti_cbc/eiti_iv')\n",
    "aes.decrypt_image('eiti_cbc/eiti_data_cbc', 'eiti_cbc/eiti_cbc_decyrpt.jpg')\n",
    "\n",
    "aes.prepare_encrypt('ECB')\n",
    "aes.encrypt_image('eiti.jpg', 'eiti_ecb/eiti_ecb.jpg', 'eiti_ecb/eiti_data_ecb', 'eiti_ecb/eiti_key_ecb')\n",
    "\n",
    "aes.prepare_decrypt('ECB', 'eiti_ecb/eiti_key_ecb')\n",
    "aes.decrypt_image('eiti_ecb/eiti_data_ecb', 'eiti_ecb/eiti_ecb_decyrpt.jpg')\n"
   ]
  },
  {
   "cell_type": "markdown",
   "metadata": {},
   "source": [
    "<img src=\"eiti.jpg\" width=\"200\" height=\"200\" style=\"float: left; margin: 0 5%\" />\n",
    "<img src=\"eiti_cbc/eiti_cbc.jpg\" width=\"200\" height=\"200\" style=\"float: left; margin: 0 5%\"/>\n",
    "<img src=\"eiti_ecb/eiti_ecb.jpg\" width=\"200\" height=\"200\" style=\"float: left; margin: 0 5%\"/>\n",
    "<div style=\"clear: both; margin: 15px auto\">\n",
    "Powyżej widoczne są wyniki szyfrowania logo wydziału EITI (obrazek z lewej) dla trybu CBC (obrazek środkowy) oraz ECB (obrazek z prawej). Widać, że dla uporządkowanych danych znacząco lepiej z szyfrowaniem radzi sobie AES w trybie CBC, a tryb ECB nie maskuje zbyt dobrze informacji. Wynika z faktu, że w trybie CBC (jak wskazuje nazwa Cipher Block Chaining) najpierw pierwszy blok jest poddany operacji xor z wektorem inicjalizacyjnym, a poczas szyfrowania kolejnych bloków wykonuje się ich xor z poprzednim, zaszyfrowanym już blokiem, co daje większą losowość wyniku. W trybie ECB bloki są po prostu szyfrowane jeden po drugim za pomocą klucza co w przedstawionym przypadku okazało się mało efektywne.\n",
    "</div>"
   ]
  },
  {
   "cell_type": "markdown",
   "metadata": {},
   "source": [
    "### 2.2 Zaszyfrowanie wiadomości i uszkodzenie pliku zaszyfrowanego"
   ]
  },
  {
   "cell_type": "markdown",
   "metadata": {},
   "source": [
    "Po zaszyfrowaniu wiadomości, zmieniono bajt w pliku zaszyfrowanym. Wiadomość po odszyfrowaniu wyglądała następująco:\n",
    "\n",
    "szyfrowanie CBC:\n",
    "Lorem ipsum dolor sit amet, consectetur adipiscing elit. Proin pretium ultrices turpis. Integer lobortis, nunc ut ornare blandit, purus arcu viverra lectus, vel3%1\\x05g\\xac\\x84\\x95M\\x82\\xaa\\x85\\xe2\\xc7\"rbm et eros.\n",
    "\n",
    "szyfrowanie ECB:\n",
    "Lorem ipsum dolor sit amet, consectetur adipiscing elit. Proin pretium ultrices turpis. Integer lobortis, nunc ut ornare blandit~\\xc6\\xaf\\x01\\xf3\\xc9'N\\r\\xfcm\\x17\\x87\\xb0\\xcf\\xe0erra lectus, vel pharetra leo lorem et eros.\n",
    "\n",
    "W obydwu przypadkach nie doszło do poprawnego odczytania kilku bajtów wiadomości."
   ]
  },
  {
   "cell_type": "markdown",
   "metadata": {},
   "source": [
    "### 2.3 Zaszyfrowanie wiadomości i uszkodzenie klucza"
   ]
  },
  {
   "cell_type": "markdown",
   "metadata": {},
   "source": [
    "Po zamianie bajtów w kluczu, otrzymano wiadomość:\n",
    "\n",
    "szyfrowanie CBC:\n",
    "\n",
    "\n",
    "szyfrowanie ECB:\n"
   ]
  },
  {
   "cell_type": "markdown",
   "metadata": {},
   "source": [
    "## 3. Obliczenie skrótu z pliku i sprawdzenie poprawności\n",
    "\n",
    "Do obliczenia skrótu pliku i sprawdzenia poprawności posłużył następujący program:"
   ]
  },
  {
   "cell_type": "code",
   "execution_count": 9,
   "metadata": {},
   "outputs": [
    {
     "name": "stdout",
     "output_type": "stream",
     "text": [
      "b'\\x1e\\xb7\\x08WH\\x9d\\xfc\\x13]TO\\xfd{\\x03o9\\x02;[y\\xcb\\xc0\\xf5\\xf8V\\x99\\xe4\\x9en\\x9c\\xd9\\x97'\n",
      "Funkcja skrótu odpowiada plikowi\n"
     ]
    }
   ],
   "source": [
    "import hashlib\n",
    "\n",
    "class Integrity:\n",
    "    def __init__(self):\n",
    "        pass\n",
    "\n",
    "    def _hash(self, bytes):\n",
    "        hash_obj = hashlib.sha3_256()\n",
    "        hash_obj.update(bytes)\n",
    "        return hash_obj.digest()\n",
    "\n",
    "    def hash_file(self, file_from):\n",
    "        with open(file_from, \"rb\") as file:\n",
    "            data = file.read()\n",
    "\n",
    "        return self._hash(data)\n",
    "\n",
    "    def hash_to_file(self, file_from, file_to):\n",
    "\n",
    "        hashed_file = self.hash_file(file_from)\n",
    "\n",
    "        with open(file_to, \"wb\") as file:\n",
    "            file.write(hashed_file)\n",
    "\n",
    "    def integrity_check(self, file1, file2):\n",
    "        with open(file1, \"rb\") as file:\n",
    "            data1 = file.read()\n",
    "\n",
    "        hash1 = self._hash(data1)\n",
    "        print(hash1)\n",
    "\n",
    "        with open(file2, \"rb\") as file:\n",
    "            hash2 = file.read()\n",
    "\n",
    "        if hash1 == hash2:\n",
    "            print(\"Funkcja skrótu odpowiada plikowi\")\n",
    "        else:\n",
    "            print(\"Funkcja skrótu nie odpowiada plikowi\")\n",
    "\n",
    "integrity = Integrity()\n",
    "integrity.hash_to_file(\"message.txt\", \"hash\")\n",
    "integrity.integrity_check(\"message.txt\", \"hash\")"
   ]
  },
  {
   "cell_type": "markdown",
   "metadata": {},
   "source": [
    "Po zmianie znaku w pliku jego funkcja skrótu wygląda inaczej:\n",
    "b'\\xc7GZs\\xfd;\\x82Mu\\x1f\\xdd\\xa3\\x89\\xc0?\\x19\\xd4z\\xcd\\xa1\\x00\\xe0L:\\xa7\\x7f\\xbf\\xc3\\x813hL'\n",
    "\n",
    "Zgodnie z oczekiwaniami, program informuje wtedy o niezgodności pliku z poprzednią funkcją skrótu."
   ]
  }
 ],
 "metadata": {
  "kernelspec": {
   "display_name": "Python 3",
   "language": "python",
   "name": "python3"
  },
  "language_info": {
   "codemirror_mode": {
    "name": "ipython",
    "version": 3
   },
   "file_extension": ".py",
   "mimetype": "text/x-python",
   "name": "python",
   "nbconvert_exporter": "python",
   "pygments_lexer": "ipython3",
   "version": "3.7.0"
  }
 },
 "nbformat": 4,
 "nbformat_minor": 2
}

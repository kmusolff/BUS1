{
 "cells": [
  {
   "cell_type": "markdown",
   "metadata": {},
   "source": [
    "# Laboratorium Bezpieczeństwa Usług Sieciowych\n",
    "\n",
    "## 1. Obsługa Arytmetytki modularnej"
   ]
  },
  {
   "cell_type": "code",
   "execution_count": 1,
   "metadata": {},
   "outputs": [],
   "source": [
    "class Arytmetyka:\n",
    "    \n",
    "    def __init__(self, value, modulo):\n",
    "        self.__modulo = modulo\n",
    "        self.__value = value % modulo\n",
    "\n",
    "    def __add__(self, other):\n",
    "        new_value = (self.__value + other.__value) % self.__modulo\n",
    "        return Arytmetyka(new_value, self.__modulo)\n",
    "\n",
    "    def __sub__(self, other):\n",
    "        new_value = (self.__value - other.__value) % self.__modulo\n",
    "        return Arytmetyka(new_value, self.__modulo)\n",
    "\n",
    "    def __mul__(self, other):\n",
    "        new_value = (self.__value * other.__value) % self.__modulo\n",
    "        return Arytmetyka(new_value, self.__modulo)\n",
    "\n",
    "    def __str__(self):\n",
    "        return str(self.__value)\n",
    "\n",
    "    #odwrotność modulo: a*a^-1 = 1 (mod m)\n",
    "    def inverse(self):\n",
    "        m = self.__modulo\n",
    "        a = self.__value\n",
    "        m0 = m \n",
    "        y = 0\n",
    "        x = 1\n",
    "        \n",
    "        if (m == 1): \n",
    "            return 0\n",
    "\n",
    "        while (a > 1): \n",
    "            q = a // m \n",
    "            t = m \n",
    "            m = a % m \n",
    "            a = t \n",
    "            t = y \n",
    "            y = x - q * y \n",
    "            x = t \n",
    "\n",
    "        if (x < 0) : \n",
    "            x = x + m0 \n",
    "\n",
    "        return Arytmetyka(x, self.__modulo) \n",
    "\n",
    "        "
   ]
  },
  {
   "cell_type": "markdown",
   "metadata": {},
   "source": [
    "### Operacje modulo p "
   ]
  },
  {
   "cell_type": "code",
   "execution_count": 2,
   "metadata": {},
   "outputs": [
    {
     "name": "stdout",
     "output_type": "stream",
     "text": [
      "Wpisz pierwszą liczbę: 500\n",
      "Wpisz drugą liczbę: 300\n",
      "Wpisz moduł: 547\n"
     ]
    }
   ],
   "source": [
    "a = int(input(\"Wpisz pierwszą liczbę: \"))\n",
    "b = int(input(\"Wpisz drugą liczbę: \"))\n",
    "p = int(input(\"Wpisz moduł: \"))\n",
    "\n",
    "a = Arytmetyka(a, p)\n",
    "b = Arytmetyka(b, p)"
   ]
  },
  {
   "cell_type": "markdown",
   "metadata": {},
   "source": [
    "#### Po wpisaniu liczb możemy na nich wykonywać następujące operacje:\n",
    "- __dodawanie__ $ a \\oplus b \\: (mod \\: p)$"
   ]
  },
  {
   "cell_type": "code",
   "execution_count": 3,
   "metadata": {},
   "outputs": [
    {
     "name": "stdout",
     "output_type": "stream",
     "text": [
      "500 + 300 = 253 (mod 547)\n"
     ]
    }
   ],
   "source": [
    "print(\"{} + {} = {} (mod {})\".format(a, b, a+b, p))"
   ]
  },
  {
   "cell_type": "markdown",
   "metadata": {},
   "source": [
    "- __odejmowanie__  $ a \\ominus b \\: (mod \\: p)$"
   ]
  },
  {
   "cell_type": "code",
   "execution_count": 4,
   "metadata": {},
   "outputs": [
    {
     "name": "stdout",
     "output_type": "stream",
     "text": [
      "500 - 300 = 200 (mod 547)\n"
     ]
    }
   ],
   "source": [
    "print(\"{} - {} = {} (mod {})\".format(a, b, a-b, p))"
   ]
  },
  {
   "cell_type": "markdown",
   "metadata": {},
   "source": [
    "- __mnożenie__ $ a \\odot b \\: (mod \\: p)$"
   ]
  },
  {
   "cell_type": "code",
   "execution_count": 5,
   "metadata": {},
   "outputs": [
    {
     "name": "stdout",
     "output_type": "stream",
     "text": [
      "500 * 300 = 122 (mod 547)\n"
     ]
    }
   ],
   "source": [
    "print(\"{} * {} = {} (mod {})\".format(a, b, a*b, p))"
   ]
  },
  {
   "cell_type": "markdown",
   "metadata": {},
   "source": [
    "- __znajdowanie odwrotności__  $ a^{-1} \\: (mod \\: p)$"
   ]
  },
  {
   "cell_type": "code",
   "execution_count": 6,
   "metadata": {},
   "outputs": [
    {
     "name": "stdout",
     "output_type": "stream",
     "text": [
      "500 * 128 = 1 (mod 547)\n"
     ]
    }
   ],
   "source": [
    "print(\"{} * {} = {} (mod {})\".format(a, a.inverse(), a*a.inverse(), p))"
   ]
  },
  {
   "cell_type": "markdown",
   "metadata": {},
   "source": [
    "### Operacje dla dowolnie dużych liczb (1024bitowe)"
   ]
  },
  {
   "cell_type": "code",
   "execution_count": 7,
   "metadata": {},
   "outputs": [],
   "source": [
    "from Crypto.Util import number\n",
    "from random import getrandbits\n",
    "\n",
    "p_bits = 2048\n",
    "\n",
    "p = number.getPrime(p_bits)\n",
    "\n",
    "a = Arytmetyka(getrandbits(p_bits), p)"
   ]
  },
  {
   "cell_type": "markdown",
   "metadata": {},
   "source": [
    "Dla tak dużych liczb jesteśmy w stanie w sensowny sposób pokazać jedynie odwracanie liczby\n"
   ]
  },
  {
   "cell_type": "code",
   "execution_count": 11,
   "metadata": {},
   "outputs": [
    {
     "name": "stdout",
     "output_type": "stream",
     "text": [
      "2217502025968615199546066019330734401562227430868738596039298958701245438100443820759515312635692319102685559130126424189301403981532941505548168741915348145454160871152001220918830326254777452409059612020447726667389076237118226970503984195150758576426077309397430511066848504402815997793831854889841094079408788883436176483747146804102254886512215555083672685715762968177709068246941129619227639504032991779911806333804759243241221472078709425900248393807823129199909043997739877814020452695526236354728634181257105199071816806068397966757232479905081009191912374934694572964154270496700188759844940758127969158988 \n",
      "*\n",
      "3067374048390411667761701399073981754335404258885964538299766633889328449573700133890358629596076092506810460081912253409323413018568414302532631351133936000549142659304615530062190988456032588690931646888343745485851856896596460845507588161724168524996296017815464092287485870512733221232915331444020725000554457823405539674454071670933007697990716455650292354144008828434682517192076967606874453511067001469359453934247889275928456211138246330960005535954168605043627281060915928439031704382714328733235711880790487730639084255341206342383646753057380370144496170789872819358313533186268970781851438124958812071119 \n",
      "=\n",
      "1 \n",
      "(mod 26631170827284990657664285127737002350012821828361358003843082762674467799130895615779290828957452329193028493546151050386179529339870136998778468202522128966891098510178045627577613105308699004715599383626477550366283537659273911736722316699406272006210652819045722349436246346259572205819016771165076881502255669339816397992390103109639529318156153636107460469046326995837107076826925100455165873963697325972078452877015823488773537184388335258315146081644897490034912754485876293400519937694933581278615734503034769558630853253389605580667678632517088265061121597778215469421615065757980598402483270385259021380067)\n"
     ]
    }
   ],
   "source": [
    "print(\"{} \\n*\\n{} \\n=\\n{} \\n(mod {})\".format(a, a.inverse(), a*a.inverse(), p))"
   ]
  },
  {
   "cell_type": "code",
   "execution_count": null,
   "metadata": {},
   "outputs": [],
   "source": []
  }
 ],
 "metadata": {
  "kernelspec": {
   "display_name": "Python 3",
   "language": "python",
   "name": "python3"
  },
  "language_info": {
   "codemirror_mode": {
    "name": "ipython",
    "version": 3
   },
   "file_extension": ".py",
   "mimetype": "text/x-python",
   "name": "python",
   "nbconvert_exporter": "python",
   "pygments_lexer": "ipython3",
   "version": "3.7.0"
  }
 },
 "nbformat": 4,
 "nbformat_minor": 2
}
